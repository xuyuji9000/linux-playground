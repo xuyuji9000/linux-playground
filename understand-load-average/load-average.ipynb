{
 "cells": [
  {
   "cell_type": "code",
   "execution_count": 1,
   "metadata": {},
   "outputs": [],
   "source": [
    "import matplotlib.pyplot as plt\n",
    "import numpy as np\n",
    "import math"
   ]
  },
  {
   "cell_type": "code",
   "execution_count": 31,
   "metadata": {},
   "outputs": [
    {
     "ename": "AttributeError",
     "evalue": "'list' object has no attribute 'len'",
     "output_type": "error",
     "traceback": [
      "\u001b[0;31m---------------------------------------------------------------------------\u001b[0m",
      "\u001b[0;31mAttributeError\u001b[0m                            Traceback (most recent call last)",
      "\u001b[0;32m<ipython-input-31-efcca2eab2c6>\u001b[0m in \u001b[0;36m<module>\u001b[0;34m\u001b[0m\n\u001b[1;32m     19\u001b[0m \u001b[0mdata_5\u001b[0m\u001b[0;34m=\u001b[0m\u001b[0mexponential_moving_average\u001b[0m\u001b[0;34m(\u001b[0m\u001b[0mTOTAL_TIME_5\u001b[0m\u001b[0;34m)\u001b[0m\u001b[0;34m\u001b[0m\u001b[0;34m\u001b[0m\u001b[0m\n\u001b[1;32m     20\u001b[0m \u001b[0mdata_15\u001b[0m\u001b[0;34m=\u001b[0m\u001b[0mexponential_moving_average\u001b[0m\u001b[0;34m(\u001b[0m\u001b[0mTOTAL_TIME_15\u001b[0m\u001b[0;34m)\u001b[0m\u001b[0;34m\u001b[0m\u001b[0;34m\u001b[0m\u001b[0m\n\u001b[0;32m---> 21\u001b[0;31m \u001b[0mprint\u001b[0m\u001b[0;34m(\u001b[0m\u001b[0mdata_1\u001b[0m\u001b[0;34m.\u001b[0m\u001b[0mlen\u001b[0m\u001b[0;34m)\u001b[0m\u001b[0;34m\u001b[0m\u001b[0;34m\u001b[0m\u001b[0m\n\u001b[0m",
      "\u001b[0;31mAttributeError\u001b[0m: 'list' object has no attribute 'len'"
     ]
    }
   ],
   "source": [
    "def exponential_moving_average(total_time):\n",
    "    SAMPPLE_TIME_PERIOD=5\n",
    "    TOTAL_TIME=total_time\n",
    "\n",
    "    k=math.exp(-SAMPPLE_TIME_PERIOD/TOTAL_TIME)\n",
    "    y=0\n",
    "    \n",
    "    data=[]\n",
    "\n",
    "    for i in range(0, int(TOTAL_TIME/SAMPPLE_TIME_PERIOD)):\n",
    "        y=(1-k)*1+k*y\n",
    "        data.append([y, i+1])\n",
    "    return data\n",
    "\n",
    "TOTAL_TIME_1=60*1\n",
    "TOTAL_TIME_5=60*5\n",
    "TOTAL_TIME_15=60*15\n",
    "data_1=exponential_moving_average(TOTAL_TIME_1)\n",
    "data_5=exponential_moving_average(TOTAL_TIME_5)\n",
    "data_15=exponential_moving_average(TOTAL_TIME_15)\n",
    "print(data_1.len)"
   ]
  },
  {
   "cell_type": "code",
   "execution_count": 28,
   "metadata": {},
   "outputs": [
    {
     "data": {
      "text/plain": [
       "<matplotlib.collections.PathCollection at 0x119ab7910>"
      ]
     },
     "execution_count": 28,
     "metadata": {},
     "output_type": "execute_result"
    },
    {
     "data": {
      "image/png": "[encoded data removed]",
      "text/plain": [
       "<Figure size 432x288 with 1 Axes>"
      ]
     },
     "metadata": {
      "needs_background": "light"
     },
     "output_type": "display_data"
    }
   ],
   "source": [
    "# fig, ax = plt.subplots()\n",
    "plt.scatter([item[1] for item in data_1], [item[0] for item in data_1])\n",
    "plt.scatter([item[1] for item in data_5], [item[0] for item in data_5])\n",
    "plt.scatter([item[1] for item in data_15], [item[0] for item in data_15])\n"
   ]
  },
  {
   "cell_type": "code",
   "execution_count": null,
   "metadata": {},
   "outputs": [],
   "source": []
  }
 ],
 "metadata": {
  "kernelspec": {
   "display_name": "Python 3",
   "language": "python",
   "name": "python3"
  },
  "language_info": {
   "codemirror_mode": {
    "name": "ipython",
    "version": 3
   },
   "file_extension": ".py",
   "mimetype": "text/x-python",
   "name": "python",
   "nbconvert_exporter": "python",
   "pygments_lexer": "ipython3",
   "version": "3.7.6"
  }
 },
 "nbformat": 4,
 "nbformat_minor": 4
}
