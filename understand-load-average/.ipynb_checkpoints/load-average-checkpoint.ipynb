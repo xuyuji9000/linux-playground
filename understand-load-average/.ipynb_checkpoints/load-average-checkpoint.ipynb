{
 "cells": [
  {
   "cell_type": "code",
   "execution_count": 1,
   "metadata": {},
   "outputs": [],
   "source": [
    "import matplotlib.pyplot as plt\n",
    "import numpy as np\n",
    "import math"
   ]
  },
  {
   "cell_type": "code",
   "execution_count": 11,
   "metadata": {},
   "outputs": [
    {
     "name": "stdout",
     "output_type": "stream",
     "text": [
      "[0.07995558537067671, 0.15351827510938584, 0.221199216928595, 0.2834686894262106, 0.3407593697995561, 0.3934693402873664, 0.44196485422995274, 0.48658288096740776, 0.5276334472589851, 0.5654017914929216, 0.6001503456551525, 0.6321205588285574]\n"
     ]
    }
   ],
   "source": [
    "def exponential_moving_average(total_time):\n",
    "    SAMPPLE_TIME_PERIOD=5\n",
    "    TOTAL_TIME=total_time\n",
    "\n",
    "    k=math.exp(-SAMPPLE_TIME_PERIOD/TOTAL_TIME)\n",
    "    y=0\n",
    "    \n",
    "    data=[]\n",
    "\n",
    "    for i in range(0, int(TOTAL_TIME/SAMPPLE_TIME_PERIOD)):\n",
    "        y=(1-k)*1+k*y\n",
    "        data.append(y)\n",
    "    return data\n",
    "\n",
    "TOTAL_TIME_1=60*1\n",
    "TOTAL_TIME_5=60*5\n",
    "TOTAL_TIME_15=60*15\n",
    "data_1=exponential_moving_average(TOTAL_TIME_1)\n",
    "data_5=exponential_moving_average(TOTAL_TIME_5)\n"
   ]
  },
  {
   "cell_type": "code",
   "execution_count": 12,
   "metadata": {},
   "outputs": [
    {
     "data": {
      "text/plain": [
       "[<matplotlib.lines.Line2D at 0x1192a1590>]"
      ]
     },
     "execution_count": 12,
     "metadata": {},
     "output_type": "execute_result"
    },
    {
     "data": {
      "image/png": "[encoded data removed]",
      "text/plain": [
       "<Figure size 432x288 with 1 Axes>"
      ]
     },
     "metadata": {
      "needs_background": "light"
     },
     "output_type": "display_data"
    }
   ],
   "source": [
    "# fig, ax = plt.subplots()\n",
    "plt.plot(data_1) "
   ]
  },
  {
   "cell_type": "code",
   "execution_count": null,
   "metadata": {},
   "outputs": [],
   "source": []
  }
 ],
 "metadata": {
  "kernelspec": {
   "display_name": "Python 3",
   "language": "python",
   "name": "python3"
  },
  "language_info": {
   "codemirror_mode": {
    "name": "ipython",
    "version": 3
   },
   "file_extension": ".py",
   "mimetype": "text/x-python",
   "name": "python",
   "nbconvert_exporter": "python",
   "pygments_lexer": "ipython3",
   "version": "3.7.6"
  }
 },
 "nbformat": 4,
 "nbformat_minor": 4
}
