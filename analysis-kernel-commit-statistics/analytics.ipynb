{
 "cells": [
  {
   "cell_type": "code",
   "execution_count": 1,
   "metadata": {},
   "outputs": [
    {
     "data": {
      "text/plain": [
       "297052"
      ]
     },
     "execution_count": 1,
     "metadata": {},
     "output_type": "execute_result"
    }
   ],
   "source": [
    "# Prepare original change log \n",
    "import requests\n",
    "version_major='5'\n",
    "version_minor='10'\n",
    "version_patch='27'\n",
    "url = 'https://cdn.kernel.org/pub/linux/kernel/v'+version_major+'.x/ChangeLog-'+version_major+'.'+version_minor+'.'+version_patch\n",
    "r = requests.get(url, allow_redirects=True)\n",
    "ChangeLog='ChangeLog.txt'\n",
    "open(ChangeLog, 'wb').write(r.content)"
   ]
  },
  {
   "cell_type": "code",
   "execution_count": 2,
   "metadata": {},
   "outputs": [
    {
     "data": {
      "text/html": [
       "<div>\n",
       "<style scoped>\n",
       "    .dataframe tbody tr th:only-of-type {\n",
       "        vertical-align: middle;\n",
       "    }\n",
       "\n",
       "    .dataframe tbody tr th {\n",
       "        vertical-align: top;\n",
       "    }\n",
       "\n",
       "    .dataframe thead th {\n",
       "        text-align: right;\n",
       "    }\n",
       "</style>\n",
       "<table border=\"1\" class=\"dataframe\">\n",
       "  <thead>\n",
       "    <tr style=\"text-align: right;\">\n",
       "      <th></th>\n",
       "      <th>email</th>\n",
       "    </tr>\n",
       "  </thead>\n",
       "  <tbody>\n",
       "    <tr>\n",
       "      <th>0</th>\n",
       "      <td>&lt;gregkh@linuxfoundation.org&gt;</td>\n",
       "    </tr>\n",
       "    <tr>\n",
       "      <th>1</th>\n",
       "      <td>&lt;a.rabusov@tum.de&gt;</td>\n",
       "    </tr>\n",
       "    <tr>\n",
       "      <th>2</th>\n",
       "      <td>&lt;f.fainelli@gmail.com&gt;</td>\n",
       "    </tr>\n",
       "    <tr>\n",
       "      <th>3</th>\n",
       "      <td>&lt;linux@roeck-us.net&gt;</td>\n",
       "    </tr>\n",
       "    <tr>\n",
       "      <th>4</th>\n",
       "      <td>&lt;jason@bluehome.net&gt;</td>\n",
       "    </tr>\n",
       "    <tr>\n",
       "      <th>...</th>\n",
       "      <td>...</td>\n",
       "    </tr>\n",
       "    <tr>\n",
       "      <th>1227</th>\n",
       "      <td>&lt;stable@vger.kernel.org&gt;</td>\n",
       "    </tr>\n",
       "    <tr>\n",
       "      <th>1228</th>\n",
       "      <td>&lt;akpm@linux-foundation.org&gt;</td>\n",
       "    </tr>\n",
       "    <tr>\n",
       "      <th>1229</th>\n",
       "      <td>&lt;torvalds@linux-foundation.org&gt;</td>\n",
       "    </tr>\n",
       "    <tr>\n",
       "      <th>1230</th>\n",
       "      <td>&lt;hughd@google.com&gt;</td>\n",
       "    </tr>\n",
       "    <tr>\n",
       "      <th>1231</th>\n",
       "      <td>&lt;gregkh@linuxfoundation.org&gt;</td>\n",
       "    </tr>\n",
       "  </tbody>\n",
       "</table>\n",
       "<p>1232 rows × 1 columns</p>\n",
       "</div>"
      ],
      "text/plain": [
       "                                email\n",
       "0        <gregkh@linuxfoundation.org>\n",
       "1                  <a.rabusov@tum.de>\n",
       "2              <f.fainelli@gmail.com>\n",
       "3                <linux@roeck-us.net>\n",
       "4                <jason@bluehome.net>\n",
       "...                               ...\n",
       "1227         <stable@vger.kernel.org>\n",
       "1228      <akpm@linux-foundation.org>\n",
       "1229  <torvalds@linux-foundation.org>\n",
       "1230               <hughd@google.com>\n",
       "1231     <gregkh@linuxfoundation.org>\n",
       "\n",
       "[1232 rows x 1 columns]"
      ]
     },
     "execution_count": 2,
     "metadata": {},
     "output_type": "execute_result"
    }
   ],
   "source": [
    "# Extract Email addresses\n",
    "import pandas as pd\n",
    "pd.set_option('max_colwidth', None)\n",
    "import re\n",
    "\n",
    "f = open(\"ChangeLog.txt\", \"r\")\n",
    "emails = []\n",
    "for line in f: \n",
    "    x = re.findall(\"<.*@.*>\", line) \n",
    "    emails += x\n",
    "len(emails)\n",
    "\n",
    "\n",
    "emails_series = pd.Series(emails)\n",
    "\n",
    "d = {\n",
    "    \"email\": emails_series\n",
    "}\n",
    "\n",
    "df = pd.DataFrame(d)\n",
    "df"
   ]
  },
  {
   "cell_type": "code",
   "execution_count": 3,
   "metadata": {},
   "outputs": [],
   "source": [
    "# Extract email suffix into new column\n",
    "\n",
    "def extract_suffix(email):\n",
    "    return re.findall('@.*>', email)[0]\n",
    "\n",
    "df['email_suffix'] = df.apply(lambda x: extract_suffix(x['email']), axis=1)\n",
    "\n",
    "df\n",
    "\n",
    "# Exclude linux internal emails\n",
    "internal_email_suffixes = ['@kernel.org>', '@linuxfoundation.org>', '@linux-foundation.org>']\n",
    "\n",
    "index_to_exclude = df[ df['email_suffix'].isin(internal_email_suffixes)  ].index\n",
    "df.drop(index_to_exclude, inplace = True)\n"
   ]
  },
  {
   "cell_type": "code",
   "execution_count": 4,
   "metadata": {
    "scrolled": true
   },
   "outputs": [],
   "source": [
    "\n",
    "# Group by email_suffix\n",
    "df = df.groupby('email_suffix').size().reset_index(name='count')\n"
   ]
  },
  {
   "cell_type": "code",
   "execution_count": 5,
   "metadata": {},
   "outputs": [],
   "source": [
    "# Sort by count\n",
    "\n",
    "df = df.sort_values(by=['count'])"
   ]
  },
  {
   "cell_type": "code",
   "execution_count": 8,
   "metadata": {},
   "outputs": [
    {
     "name": "stdout",
     "output_type": "stream",
     "text": [
      "923\n"
     ]
    }
   ],
   "source": [
    "# add percentage column\n",
    "count_sum = df['count'].sum()\n",
    "print(count_sum)\n",
    "\n",
    "df['percentage'] = df['count'] / count_sum\n",
    "# print(df.to_string())"
   ]
  },
  {
   "cell_type": "code",
   "execution_count": 9,
   "metadata": {},
   "outputs": [
    {
     "data": {
      "text/html": [
       "<div>\n",
       "<style scoped>\n",
       "    .dataframe tbody tr th:only-of-type {\n",
       "        vertical-align: middle;\n",
       "    }\n",
       "\n",
       "    .dataframe tbody tr th {\n",
       "        vertical-align: top;\n",
       "    }\n",
       "\n",
       "    .dataframe thead th {\n",
       "        text-align: right;\n",
       "    }\n",
       "</style>\n",
       "<table border=\"1\" class=\"dataframe\">\n",
       "  <thead>\n",
       "    <tr style=\"text-align: right;\">\n",
       "      <th></th>\n",
       "      <th>email_suffix</th>\n",
       "      <th>count</th>\n",
       "      <th>percentage</th>\n",
       "    </tr>\n",
       "  </thead>\n",
       "  <tbody>\n",
       "    <tr>\n",
       "      <th>46</th>\n",
       "      <td>@huawei.com&gt;</td>\n",
       "      <td>22</td>\n",
       "      <td>0.023835</td>\n",
       "    </tr>\n",
       "  </tbody>\n",
       "</table>\n",
       "</div>"
      ],
      "text/plain": [
       "    email_suffix  count  percentage\n",
       "46  @huawei.com>     22    0.023835"
      ]
     },
     "execution_count": 9,
     "metadata": {},
     "output_type": "execute_result"
    }
   ],
   "source": [
    "# get '@huawei.com>' row\n",
    "df[df['email_suffix'] == '@huawei.com>']"
   ]
  },
  {
   "cell_type": "code",
   "execution_count": null,
   "metadata": {},
   "outputs": [],
   "source": []
  }
 ],
 "metadata": {
  "kernelspec": {
   "display_name": "Python 3",
   "language": "python",
   "name": "python3"
  },
  "language_info": {
   "codemirror_mode": {
    "name": "ipython",
    "version": 3
   },
   "file_extension": ".py",
   "mimetype": "text/x-python",
   "name": "python",
   "nbconvert_exporter": "python",
   "pygments_lexer": "ipython3",
   "version": "3.9.0"
  }
 },
 "nbformat": 4,
 "nbformat_minor": 4
}
